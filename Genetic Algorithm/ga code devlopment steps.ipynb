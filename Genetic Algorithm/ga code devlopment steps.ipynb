{
 "cells": [
  {
   "cell_type": "markdown",
   "id": "938af3b3-4fd2-4a69-a615-734518299b18",
   "metadata": {},
   "source": [
    "                 \n",
    "variable --->>  |__| --->> objective"
   ]
  },
  {
   "cell_type": "markdown",
   "id": "bfe596d2-74fb-4de1-b3c6-fd490217d458",
   "metadata": {},
   "source": [
    "## Gene representation and fitness function"
   ]
  },
  {
   "cell_type": "code",
   "execution_count": 8,
   "id": "49a0d191-b5f4-4759-8244-f52959c353ac",
   "metadata": {},
   "outputs": [],
   "source": [
    "import numpy as np"
   ]
  },
  {
   "cell_type": "code",
   "execution_count": 2,
   "id": "a755af97-2810-4ddd-b17f-2f499d2ccec2",
   "metadata": {},
   "outputs": [],
   "source": [
    "### population ###\n",
    "\n",
    "# population = [chromosome1, chromosome2, chromosome3,........] \n",
    "\n",
    "# pupulation.chromosome.gene\n",
    "\n",
    "m = 10 #number of chromosomes (candidate solution)\n",
    "n=2 #number of genes(decision variables / parameters)\n",
    "\n",
    "\n",
    "### chromosome ###\n",
    "chromosemes = [{'gene':[],'fitness'=None]}]\n",
    "\n",
    "### gene ###"
   ]
  },
  {
   "cell_type": "code",
   "execution_count": 127,
   "id": "3c373df0-9a08-4668-8773-31409570b5ce",
   "metadata": {},
   "outputs": [],
   "source": [
    "import numpy as np\n",
    "class chromosome:\n",
    "    def __init__(self, genes=None):\n",
    "        self.genes = genes if genes else self.generate_genes()\n",
    "        self.fitness = fitness_function(self.genes)\n",
    "\n",
    "    def generate_genes(self, length=10):\n",
    "        return [np.random.choice([0, 1]) for _ in range(length)]\n",
    "        \n",
    "\n",
    "class Population:\n",
    "    def __init__(self, size=10, chromosome_length=10):\n",
    "        \n",
    "        self.chromosomes = [chromosome() for _ in range(size)]\n",
    "        self.size = len(self.chromosomes)\n",
    "        # self.chromosome_fitness\n"
   ]
  },
  {
   "cell_type": "code",
   "execution_count": 94,
   "id": "1fef981e-f70a-4c04-bba5-970e2812fc98",
   "metadata": {},
   "outputs": [],
   "source": [
    "a=Population()"
   ]
  },
  {
   "cell_type": "code",
   "execution_count": 95,
   "id": "36742644-9b33-4793-83bf-2e8b4043f643",
   "metadata": {},
   "outputs": [
    {
     "name": "stdout",
     "output_type": "stream",
     "text": [
      "[1, 0, 1, 1, 1, 0, 1, 1, 1, 0] 7\n",
      "[1, 0, 1, 1, 0, 1, 1, 0, 0, 1] 6\n",
      "[1, 0, 0, 0, 1, 0, 1, 0, 0, 1] 4\n",
      "[1, 1, 1, 0, 0, 0, 0, 1, 1, 1] 6\n",
      "[0, 0, 1, 0, 0, 1, 1, 1, 1, 0] 5\n",
      "[1, 1, 0, 1, 0, 1, 0, 0, 1, 1] 6\n",
      "[0, 0, 1, 0, 1, 1, 0, 0, 0, 1] 4\n",
      "[0, 1, 0, 1, 1, 1, 1, 0, 1, 1] 7\n",
      "[1, 1, 0, 0, 1, 1, 0, 1, 0, 1] 6\n",
      "[1, 1, 1, 1, 0, 0, 0, 1, 1, 0] 6\n"
     ]
    }
   ],
   "source": [
    "for chromosome in a.chromosomes:\n",
    "    print(chromosome.genes,chromosome.fitness)"
   ]
  },
  {
   "cell_type": "code",
   "execution_count": 10,
   "id": "2f3e9a31-a616-47d4-a80f-cefc4cac1350",
   "metadata": {},
   "outputs": [
    {
     "data": {
      "text/plain": [
       "[6, 3, 6, 6, 4]"
      ]
     },
     "execution_count": 10,
     "metadata": {},
     "output_type": "execute_result"
    }
   ],
   "source": [
    "d= [ch.fitness for ch in a.chromosomes]\n",
    "d"
   ]
  },
  {
   "cell_type": "code",
   "execution_count": 26,
   "id": "77702de5-9554-4782-9a43-602de6c59fc3",
   "metadata": {},
   "outputs": [
    {
     "data": {
      "text/plain": [
       "[1, 1, 0, 0, 0, 0, 0, 0, 0, 1]"
      ]
     },
     "execution_count": 26,
     "metadata": {},
     "output_type": "execute_result"
    }
   ],
   "source": [
    "a.chromosomes[0].genes"
   ]
  },
  {
   "cell_type": "code",
   "execution_count": 24,
   "id": "5bea3fcd-d9a9-4d4f-a4ed-c0f806fe50d0",
   "metadata": {},
   "outputs": [
    {
     "data": {
      "text/plain": [
       "3"
      ]
     },
     "execution_count": 24,
     "metadata": {},
     "output_type": "execute_result"
    }
   ],
   "source": [
    "a.chromosomes[0].fitness"
   ]
  },
  {
   "cell_type": "code",
   "execution_count": 6,
   "id": "d8741dc9-6c3e-4481-a1f1-608a1ced620b",
   "metadata": {},
   "outputs": [],
   "source": [
    "def fitness_function(x): # objective function\n",
    "\n",
    "    # number_of_blades = x[0]\n",
    "    # length_of_blades = x[1]\n",
    "\n",
    "    fitness_value = np.sum(x)\n",
    "    return fitness_value\n",
    "    \n",
    "    "
   ]
  },
  {
   "cell_type": "code",
   "execution_count": null,
   "id": "bc4d2e2f-3e9b-416a-833a-27c96dff6862",
   "metadata": {},
   "outputs": [],
   "source": [
    "import random\n",
    "\n",
    "class Chromosome:\n",
    "    def __init__(self, genes=None):\n",
    "        self.genes = genes if genes else self.generate_genes()\n",
    "        self.fitness = None\n",
    "\n",
    "    def generate_genes(self, length=10):\n",
    "        return [random.choice([0, 1]) for _ in range(length)]\n",
    "\n",
    "    def crossover(self, partner):\n",
    "        crossover_point = random.randint(0, len(self.genes) - 1)\n",
    "        child_genes = self.genes[:crossover_point] + partner.genes[crossover_point:]\n",
    "        return Chromosome(child_genes)\n",
    "\n",
    "    def mutate(self, mutation_rate=0.01):\n",
    "        for i in range(len(self.genes)):\n",
    "            if random.random() < mutation_rate:\n",
    "                self.genes[i] = 1 if self.genes[i] == 0 else 0\n",
    "\n",
    "\n",
    "class Population:\n",
    "    def __init__(self, size=10, chromosome_length=10):\n",
    "        self.size = size\n",
    "        self.chromosomes = [Chromosome() for _ in range(size)]\n",
    "        self.generation = 1\n",
    "\n",
    "    def evaluate_fitness(self, fitness_function):\n",
    "        for chromosome in self.chromosomes:\n",
    "            chromosome.fitness = fitness_function(chromosome)\n",
    "\n",
    "    def select_parents(self):\n",
    "        # Select parents based on their fitness (roulette wheel selection)\n",
    "        total_fitness = sum(chromosome.fitness for chromosome in self.chromosomes)\n",
    "        probabilities = [chromosome.fitness / total_fitness for chromosome in self.chromosomes]\n",
    "        parents = random.choices(self.chromosomes, probabilities, k=2)\n",
    "        return parents\n",
    "\n",
    "    def evolve(self, mutation_rate=0.01):\n",
    "        new_population = Population(size=self.size)\n",
    "\n",
    "        # Keep the best chromosome from the current population\n",
    "        self.chromosomes.sort(key=lambda x: x.fitness, reverse=True)\n",
    "        new_population.chromosomes[0] = self.chromosomes[0]\n",
    "\n",
    "        for i in range(1, self.size):\n",
    "            parent1, parent2 = self.select_parents()\n",
    "            child = parent1.crossover(parent2)\n",
    "            child.mutate(mutation_rate)\n",
    "            new_population.chromosomes[i] = child\n",
    "\n",
    "        new_population.generation = self.generation + 1\n",
    "        return new_population\n"
   ]
  },
  {
   "cell_type": "code",
   "execution_count": null,
   "id": "fbe66bad-f27e-41a7-9aea-142a557bd09a",
   "metadata": {},
   "outputs": [],
   "source": []
  },
  {
   "cell_type": "code",
   "execution_count": 39,
   "id": "d73163a4-d1fa-4036-93f9-e22a5e8ec130",
   "metadata": {},
   "outputs": [
    {
     "name": "stdout",
     "output_type": "stream",
     "text": [
      "[0.01 0.06 0.   0.02 0.59 0.   0.12 0.06 0.09 0.05]\n",
      "[0.59 0.12 0.09 0.06 0.06 0.05 0.02 0.01 0.   0.  ]\n",
      "[1.    0.408 0.29  0.201 0.142 0.083 0.03  0.01  0.004 0.001]\n",
      "0.31745879976797553\n",
      "0.6533322803873733\n",
      "1 0\n"
     ]
    }
   ],
   "source": [
    "## selection coding an example\n",
    "## roulet wheel\n",
    "\n",
    "fitness_value = np.array([10,100,5.5,34,1000,1,200,100,150,90])\n",
    "\n",
    "#step1 : to normalize fitness values\n",
    "normalized_fitness_value = fitness_value/np.sum(fitness_value)\n",
    "print(np.round(normalized_fitness_value,2))\n",
    "\n",
    "sorted_normalized_fitness_value = -np.sort(-normalized_fitness_value)\n",
    "print(np.round(sorted_normalized_fitness_value,2))\n",
    "\n",
    "cumsum = np.zeros(len(fitness_value))\n",
    "\n",
    "for i in range(len(fitness_value)):\n",
    "    for j in range(i,len(fitness_value)):\n",
    "        cumsum[i]+=sorted_normalized_fitness_value[j]\n",
    "\n",
    "print(np.round(cumsum,3))\n",
    "\n",
    "R = np.random.rand()\n",
    "print(R)\n",
    "for k in range(1,len(cumsum)):\n",
    "    if R > cumsum[k]:\n",
    "        parent1 = k-1\n",
    "        break\n",
    "R = np.random.rand()\n",
    "print(R)\n",
    "idx = None\n",
    "for k in range(1,len(cumsum)):\n",
    "    if R > cumsum[k]:\n",
    "        parent2 = k-1\n",
    "        break\n",
    "\n",
    "print(parent1,parent2)"
   ]
  },
  {
   "cell_type": "code",
   "execution_count": 50,
   "id": "3335c8ab-0d66-4bad-b4dd-0c9fc8c3fd98",
   "metadata": {},
   "outputs": [
    {
     "data": {
      "text/plain": [
       "array([0., 0., 0., 0., 0., 0., 0., 0., 0., 0.])"
      ]
     },
     "execution_count": 50,
     "metadata": {},
     "output_type": "execute_result"
    }
   ],
   "source": [
    "cumsum"
   ]
  },
  {
   "cell_type": "code",
   "execution_count": 45,
   "id": "7226fb21-9acd-473a-a77c-41bbb7bdfcbd",
   "metadata": {},
   "outputs": [
    {
     "data": {
      "text/plain": [
       "array([0.01, 0.06, 0.  , 0.02, 0.59, 0.  , 0.12, 0.06, 0.09, 0.05])"
      ]
     },
     "execution_count": 45,
     "metadata": {},
     "output_type": "execute_result"
    }
   ],
   "source": [
    "np.round(normalized_fitness_value,2)"
   ]
  },
  {
   "cell_type": "markdown",
   "id": "cb3071b9-6e96-47cd-bb7a-40dff81455b9",
   "metadata": {},
   "source": [
    "#### selection : coding a roulett wheel function"
   ]
  },
  {
   "cell_type": "code",
   "execution_count": 96,
   "id": "5951a7a7-9679-496d-90ff-96055c86ff27",
   "metadata": {},
   "outputs": [
    {
     "name": "stdout",
     "output_type": "stream",
     "text": [
      "[7 6 4 6 5 6 4 7 6 6]\n",
      "[0.123 0.105 0.07  0.105 0.088 0.105 0.07  0.123 0.105 0.105]\n",
      "[0 7 1 3 5 8 9 4 2 6]\n",
      "[0.123 0.123 0.105 0.105 0.105 0.105 0.105 0.088 0.07  0.07 ]\n",
      "[1.         0.87719298 0.75438596 0.64912281 0.54385965 0.43859649\n",
      " 0.33333333 0.22807018 0.14035088 0.07017544]\n",
      "0.9894761789199622\n",
      "inside if\n",
      "0.7619508875086297\n",
      "[1, 0, 1, 1, 1, 0, 1, 1, 1, 0]\n",
      "[0, 1, 0, 1, 1, 1, 1, 0, 1, 1]\n"
     ]
    },
    {
     "data": {
      "text/plain": [
       "[<__main__.chromosome at 0x1f37fbd0c50>,\n",
       " <__main__.chromosome at 0x1f37fbd1f10>]"
      ]
     },
     "execution_count": 96,
     "metadata": {},
     "output_type": "execute_result"
    }
   ],
   "source": [
    "def selection(population):\n",
    "    fitness = np.array([ch.fitness for ch in population.chromosomes])\n",
    "    print(fitness)\n",
    "    min_fitness = min(fitness)\n",
    "    if min_fitness<0:\n",
    "        fitness = fitness+abs(min_fitness)+1\n",
    "    normalized_fitness = fitness/sum(fitness)\n",
    "    print(np.round(normalized_fitness,3))\n",
    "    index_sorted_normalized_fitness = np.argsort(-normalized_fitness)\n",
    "    print(index_sorted_normalized_fitness)\n",
    "    sorted_normalized_fitness = -np.sort(-normalized_fitness)\n",
    "    print(np.round(sorted_normalized_fitness,3))\n",
    "    size = len(sorted_normalized_fitness)\n",
    "\n",
    "    cumsum = np.zeros(size)\n",
    "    for i in range(size):\n",
    "        cumsum[i]=sum(sorted_normalized_fitness[i:])\n",
    "\n",
    "    print(cumsum)\n",
    "\n",
    "    R = np.random.rand()\n",
    "    print(R)\n",
    "    for k in range(1,len(cumsum)):\n",
    "        if R > cumsum[k]:\n",
    "            print(\"inside if\")\n",
    "            parent1 = population.chromosomes[index_sorted_normalized_fitness[k-1]]\n",
    "            break\n",
    "            \n",
    "    parent2 = parent1\n",
    "    while parent2==parent1:\n",
    "        R = np.random.rand()\n",
    "        print(R)\n",
    "        for k in range(1,len(cumsum)):\n",
    "            if R > cumsum[k]:\n",
    "                parent2 = population.chromosomes[index_sorted_normalized_fitness[k-1]]\n",
    "                break\n",
    "\n",
    "    print(parent1.genes)\n",
    "    print(parent2.genes)\n",
    "    return [parent1,parent2]\n",
    "                \n",
    "\n",
    "selection(a)"
   ]
  },
  {
   "cell_type": "code",
   "execution_count": 41,
   "id": "6bbafabd-7b10-4276-b0a5-ae0fc4b14bf3",
   "metadata": {},
   "outputs": [
    {
     "name": "stdout",
     "output_type": "stream",
     "text": [
      "[1, 1, 0, 1, 1, 1, 1, 1, 0, 1] 8\n",
      "[0, 0, 0, 0, 1, 1, 1, 1, 1, 0] 5\n",
      "[0, 1, 0, 0, 1, 1, 0, 0, 0, 0] 3\n",
      "[1, 0, 0, 0, 0, 0, 0, 0, 0, 1] 2\n",
      "[0, 0, 1, 1, 1, 1, 0, 0, 0, 0] 4\n"
     ]
    }
   ],
   "source": [
    "for chromosome in a.chromosomes:\n",
    "    print(chromosome.genes,chromosome.fitness)"
   ]
  },
  {
   "cell_type": "markdown",
   "id": "82493f05-d287-46d2-b6c4-ddb3c8942b04",
   "metadata": {},
   "source": [
    "#### crossover"
   ]
  },
  {
   "cell_type": "code",
   "execution_count": 97,
   "id": "2cb2d577-421e-4785-b54a-f79c90f7215f",
   "metadata": {},
   "outputs": [
    {
     "name": "stdout",
     "output_type": "stream",
     "text": [
      "[7 6 4 6 5 6 4 7 6 6]\n",
      "[0.123 0.105 0.07  0.105 0.088 0.105 0.07  0.123 0.105 0.105]\n",
      "[0 7 1 3 5 8 9 4 2 6]\n",
      "[0.123 0.123 0.105 0.105 0.105 0.105 0.105 0.088 0.07  0.07 ]\n",
      "[1.         0.87719298 0.75438596 0.64912281 0.54385965 0.43859649\n",
      " 0.33333333 0.22807018 0.14035088 0.07017544]\n",
      "0.7269641138317389\n",
      "inside if\n",
      "0.7277463259905649\n",
      "0.566528284717964\n",
      "[1, 0, 1, 1, 0, 1, 1, 0, 0, 1]\n",
      "[1, 1, 1, 0, 0, 0, 0, 1, 1, 1]\n",
      "<__main__.chromosome object at 0x000001F37F6BE600>\n",
      "<__main__.chromosome object at 0x000001F37FBD3A40>\n"
     ]
    }
   ],
   "source": [
    "parent1 , parent2 = selection(a)\n",
    "print(parent1)\n",
    "print(parent2)\n"
   ]
  },
  {
   "cell_type": "code",
   "execution_count": 52,
   "id": "ff4beb27-3a84-4151-91a0-c4ce32b50b93",
   "metadata": {},
   "outputs": [
    {
     "name": "stdout",
     "output_type": "stream",
     "text": [
      "4\n",
      "[0, 1, 0, 0, 1, 1, 0, 0, 0, 0]\n",
      "parent1 [0, 1, 0, 0, 1, 1, 0, 0, 0, 0] 3\n",
      "parent2 [0, 0, 1, 1, 1, 1, 0, 0, 0, 0] 4\n",
      "child1 [0, 1, 0, 0, 1, 1, 0, 0, 0, 0] 3\n",
      "child2 [0, 0, 1, 1, 1, 1, 0, 0, 0, 0] 4\n"
     ]
    }
   ],
   "source": [
    "# single-point crossover using loops\n",
    "gene_no = len(parent1.genes)\n",
    "ub = gene_no\n",
    "lb = 1\n",
    "cross_p = np.random.randint(lb,ub) #crossover point\n",
    "print(cross_p)\n",
    "child1 = [0]*gene_no\n",
    "for i in range(gene_no):\n",
    "    if i<cross_p:\n",
    "        child1[i]=parent1.genes[i]\n",
    "    else:\n",
    "        child1[i]=parent2.genes[i]\n",
    "print(child1)\n",
    "child1 = chromosome(child1)\n",
    "\n",
    "\n",
    "child2 = [0]*gene_no\n",
    "for i in range(gene_no):\n",
    "    if i<cross_p:\n",
    "        child2[i]=parent2.genes[i]\n",
    "    else:\n",
    "        child2[i]=parent1.genes[i]\n",
    "child2 = chromosome(child2)\n",
    "\n",
    "# child1 = chromosome(parent1.genes[:cross_p]+parent2.genes[cross_p:])\n",
    "# child2 = chromosome(parent2.genes[:cross_p]+parent1.genes[cross_p:])\n",
    "\n",
    "print('parent1',parent1.genes,parent1.fitness)\n",
    "print('parent2',parent2.genes,parent2.fitness)\n",
    "print('child1',child1.genes,child1.fitness)\n",
    "print('child2',child2.genes,child2.fitness)\n",
    "\n",
    "\n"
   ]
  },
  {
   "cell_type": "code",
   "execution_count": 104,
   "id": "3cdb188b-eb91-4da0-aa84-9488febbd04c",
   "metadata": {},
   "outputs": [
    {
     "name": "stdout",
     "output_type": "stream",
     "text": [
      "<__main__.chromosome object at 0x000001F37F6BE600>\n",
      "<__main__.chromosome object at 0x000001F37FBD3A40>\n",
      "2 4\n",
      "[1, 0, 1, 0, 0, 1, 1, 0, 0, 1]\n",
      "[1, 0, 1, 0, 0, 1, 1, 0, 0, 1] 5\n",
      "[1, 1, 1, 1, 0, 0, 0, 1, 1, 1]\n",
      "[1, 1, 1, 1, 0, 0, 0, 1, 1, 1] 7\n"
     ]
    }
   ],
   "source": [
    "# double-point crossover using loops\n",
    "\n",
    "print(parent1)\n",
    "print(parent2)\n",
    "gene_no = len(parent1.genes)\n",
    "ub = gene_no\n",
    "lb = 1\n",
    "cross_p1 = np.random.randint(lb,ub) #crossover point\n",
    "cross_p2=cross_p1\n",
    "while cross_p2==cross_p1:\n",
    "    cross_p2 = np.random.randint(lb,ub)\n",
    "if cross_p1>cross_p2:\n",
    "    cross_p1,cross_p2 = cross_p2,cross_p1\n",
    "print(cross_p1,cross_p2)\n",
    "\n",
    "part1 = parent1.genes[:cross_p1]\n",
    "part2 = parent2.genes[cross_p1:cross_p2]\n",
    "part3 = parent1.genes[cross_p2:]\n",
    "child1 = part1+part2+part3\n",
    "\n",
    "print(child1)\n",
    "child1 = chromosome(child1)\n",
    "print(child1.genes,child1.fitness)\n",
    "\n",
    "\n",
    "part1 = parent2.genes[:cross_p1]\n",
    "part2 = parent1.genes[cross_p1:cross_p2]\n",
    "part3 = parent2.genes[cross_p2:]\n",
    "child2 = part1+part2+part3\n",
    "\n",
    "print(child2)\n",
    "child2 = chromosome(child2)\n",
    "print(child2.genes,child2.fitness)"
   ]
  },
  {
   "cell_type": "code",
   "execution_count": 105,
   "id": "14f2775a-102f-4d6c-acbc-4ef36e845038",
   "metadata": {},
   "outputs": [],
   "source": [
    "def crossover(parent1,parent2, Pc,crossoverName):\n",
    "    if crossoverName=='double':\n",
    "        gene_no = len(parent1.genes)\n",
    "        ub = gene_no\n",
    "        lb = 1\n",
    "        cross_p1 = np.random.randint(lb,ub) #crossover point\n",
    "        cross_p2=cross_p1\n",
    "        while cross_p2==cross_p1:\n",
    "            cross_p2 = np.random.randint(lb,ub)\n",
    "        if cross_p1>cross_p2:\n",
    "            cross_p1,cross_p2 = cross_p2,cross_p1\n",
    "            \n",
    "        part1 = parent1.genes[:cross_p1]\n",
    "        part2 = parent2.genes[cross_p1:cross_p2]\n",
    "        part3 = parent1.genes[cross_p2:]\n",
    "        child1 = part1+part2+part3\n",
    "        \n",
    "        child1 = chromosome(child1)\n",
    "        \n",
    "        \n",
    "        part1 = parent2.genes[:cross_p1]\n",
    "        part2 = parent1.genes[cross_p1:cross_p2]\n",
    "        part3 = parent2.genes[cross_p2:]\n",
    "        child2 = part1+part2+part3\n",
    "        child2 = chromosome(child2)\n",
    "\n",
    "        # return [child1,child2]\n",
    "        \n",
    "    elif crossoverName=='double':\n",
    "        pass\n",
    "\n",
    "    r1 = np.random.rand()\n",
    "    if r1<Pc:\n",
    "        child1 = child1\n",
    "    else:\n",
    "        child1 = parent1\n",
    "\n",
    "    r2 = np.random.rand()\n",
    "    if r2<Pc:\n",
    "        child2 = child2\n",
    "    else:\n",
    "        child2=parent2\n",
    "\n",
    "    return [child1,child2]\n",
    "        \n",
    "    \n",
    "    "
   ]
  },
  {
   "cell_type": "code",
   "execution_count": 106,
   "id": "f66da097-6213-49cc-927b-a5c8cad733b9",
   "metadata": {},
   "outputs": [
    {
     "name": "stdout",
     "output_type": "stream",
     "text": [
      "[1, 0, 1, 1, 0, 1, 0, 1, 1, 1] 7\n",
      "[1, 1, 1, 0, 0, 0, 0, 1, 1, 1] 6\n"
     ]
    }
   ],
   "source": [
    "Pc = 0.5\n",
    "crossoverName = \"double\"\n",
    "child1, child2 = crossover(parent1,parent2, Pc, crossoverName)\n",
    "print(child1.genes,child1.fitness)\n",
    "print(child2.genes,child2.fitness)"
   ]
  },
  {
   "cell_type": "code",
   "execution_count": 169,
   "id": "bbd87cb8-b90c-4dfa-a0cf-6976628a7997",
   "metadata": {},
   "outputs": [],
   "source": [
    "def mutation(child,Pm):\n",
    "    gene_no = len(child.genes)\n",
    "    for k in range(len(child.genes)):\n",
    "        r = np.random.rand()\n",
    "        # print(k,r,child.genes)\n",
    "        if r<Pm:\n",
    "            child.genes[k]=np.logical_not(child.genes[k]).astype(int)\n",
    "            # child.genes[k] = abs(child.genes[k]-1)\n",
    "            \n",
    "    return child\n",
    "            "
   ]
  },
  {
   "cell_type": "code",
   "execution_count": 118,
   "id": "e5da75a4-9a39-4237-a9e2-5646ffee9117",
   "metadata": {},
   "outputs": [
    {
     "data": {
      "text/plain": [
       "0"
      ]
     },
     "execution_count": 118,
     "metadata": {},
     "output_type": "execute_result"
    }
   ],
   "source": [
    "np.logical_not(1).astype(int)"
   ]
  },
  {
   "cell_type": "code",
   "execution_count": 142,
   "id": "90442bfb-1a65-4b20-9b3b-98349a9aa64b",
   "metadata": {},
   "outputs": [
    {
     "data": {
      "text/plain": [
       "0.8195040559368935"
      ]
     },
     "execution_count": 142,
     "metadata": {},
     "output_type": "execute_result"
    }
   ],
   "source": [
    "np.random.rand()"
   ]
  },
  {
   "cell_type": "code",
   "execution_count": 170,
   "id": "e4bc2b2d-a0fa-4481-896a-91603476d080",
   "metadata": {},
   "outputs": [
    {
     "name": "stdout",
     "output_type": "stream",
     "text": [
      "------------------------ 0 1\n",
      "[7 6 4 6 5 6 4 7 6 6]\n",
      "[0.123 0.105 0.07  0.105 0.088 0.105 0.07  0.123 0.105 0.105]\n",
      "[0 7 1 3 5 8 9 4 2 6]\n",
      "[0.123 0.123 0.105 0.105 0.105 0.105 0.105 0.088 0.07  0.07 ]\n",
      "[1.         0.87719298 0.75438596 0.64912281 0.54385965 0.43859649\n",
      " 0.33333333 0.22807018 0.14035088 0.07017544]\n",
      "0.6039326317325566\n",
      "inside if\n",
      "0.6583642021567229\n",
      "[1, 1, 1, 0, 0, 0, 0, 1, 1, 1]\n",
      "[0, 1, 0, 1, 1, 0, 0, 1, 1, 0]\n",
      "------------------------ 2 3\n",
      "[7 6 4 6 5 6 4 7 6 6]\n",
      "[0.123 0.105 0.07  0.105 0.088 0.105 0.07  0.123 0.105 0.105]\n",
      "[0 7 1 3 5 8 9 4 2 6]\n",
      "[0.123 0.123 0.105 0.105 0.105 0.105 0.105 0.088 0.07  0.07 ]\n",
      "[1.         0.87719298 0.75438596 0.64912281 0.54385965 0.43859649\n",
      " 0.33333333 0.22807018 0.14035088 0.07017544]\n",
      "0.9245028657416484\n",
      "inside if\n",
      "0.43603227583810755\n",
      "[1, 0, 1, 1, 1, 0, 1, 1, 1, 0]\n",
      "[0, 0, 0, 1, 0, 0, 0, 1, 0, 0]\n",
      "------------------------ 4 5\n",
      "[7 6 4 6 5 6 4 7 6 6]\n",
      "[0.123 0.105 0.07  0.105 0.088 0.105 0.07  0.123 0.105 0.105]\n",
      "[0 7 1 3 5 8 9 4 2 6]\n",
      "[0.123 0.123 0.105 0.105 0.105 0.105 0.105 0.088 0.07  0.07 ]\n",
      "[1.         0.87719298 0.75438596 0.64912281 0.54385965 0.43859649\n",
      " 0.33333333 0.22807018 0.14035088 0.07017544]\n",
      "0.74890789709106\n",
      "inside if\n",
      "0.18316290200378604\n",
      "[1, 1, 0, 1, 1, 0, 0, 1, 0, 0]\n",
      "[0, 1, 0, 1, 0, 1, 0, 0, 0, 0]\n",
      "----------------------------------------\n",
      "[1, 0, 0, 0, 0, 1, 0, 1, 0, 0] 6\n",
      "[1, 1, 0, 1, 1, 0, 0, 1, 0, 0] 6\n",
      "[1, 1, 1, 0, 1, 0, 0, 0, 1, 0] 6\n",
      "[0, 0, 1, 0, 0, 1, 1, 0, 0, 0] 6\n",
      "[0, 0, 0, 0, 0, 1, 1, 0, 1, 0] 5\n",
      "[1, 1, 1, 1, 0, 0, 1, 0, 1, 0] 3\n",
      "[0, 1, 0, 1, 1, 0, 1, 1, 0, 0] 5\n",
      "[1, 1, 0, 0, 1, 0, 1, 1, 1, 1] 7\n",
      "[0, 1, 0, 1, 0, 0, 0, 0, 0, 0] 2\n",
      "[1, 0, 1, 0, 1, 0, 1, 1, 0, 1] 6\n"
     ]
    }
   ],
   "source": [
    "# a = population\n",
    "new_population = Population() # work on this\n",
    "for i in range(0,5,2):\n",
    "    print('------------------------',i,i+1)\n",
    "    #selection)\n",
    "    parent1,parent2 = selection(a)\n",
    "\n",
    "    #crossover\n",
    "    Pc = 0.5\n",
    "    crossoverName='double'\n",
    "    child1,child2 = crossover(parent1,parent2, Pc, crossoverName)\n",
    "\n",
    "    #mutation\n",
    "    Pm = 0.5;\n",
    "    child1 = mutation(child1,Pm)\n",
    "    child2 = mutation(child2,Pm)\n",
    "\n",
    "    #elitism\n",
    "    Er = 0.1\n",
    "    elites_no = np.round(10*Er )\n",
    "    \n",
    "    new_population.chromosomes[i] = child1\n",
    "    new_population.chromosomes[i+1] = child2\n",
    "\n",
    "    \n",
    "\n",
    "\n",
    "    \n",
    "print(\"----------------------------------------\")\n",
    "for ele in new_population.chromosomes:\n",
    "    print(ele.genes,ele.fitness)\n",
    "    \n",
    "    "
   ]
  },
  {
   "cell_type": "code",
   "execution_count": 110,
   "id": "cc2e0d49-d161-4815-930a-e038fdc2451e",
   "metadata": {},
   "outputs": [
    {
     "name": "stdout",
     "output_type": "stream",
     "text": [
      "[1, 0, 1, 1, 1, 0, 1, 1, 1, 0] 7\n",
      "[1, 0, 1, 1, 0, 1, 1, 0, 0, 1] 6\n",
      "[1, 0, 0, 0, 1, 0, 1, 0, 0, 1] 4\n",
      "[1, 1, 1, 0, 0, 0, 0, 1, 1, 1] 6\n",
      "[0, 0, 1, 0, 0, 1, 1, 1, 1, 0] 5\n",
      "[1, 1, 0, 1, 0, 1, 0, 0, 1, 1] 6\n",
      "[0, 0, 1, 0, 1, 1, 0, 0, 0, 1] 4\n",
      "[0, 1, 0, 1, 1, 1, 1, 0, 1, 1] 7\n",
      "[1, 1, 0, 0, 1, 1, 0, 1, 0, 1] 6\n",
      "[1, 1, 1, 1, 0, 0, 0, 1, 1, 0] 6\n"
     ]
    }
   ],
   "source": [
    "#original population\n",
    "for chromosome in a.chromosomes:\n",
    "    print(chromosome.genes,chromosome.fitness)"
   ]
  },
  {
   "cell_type": "code",
   "execution_count": 172,
   "id": "85980fec-b1d4-4a8e-b296-66d30755777a",
   "metadata": {},
   "outputs": [
    {
     "data": {
      "text/plain": [
       "[7, 6, 4, 6, 5, 6, 4, 7, 6, 6]"
      ]
     },
     "execution_count": 172,
     "metadata": {},
     "output_type": "execute_result"
    }
   ],
   "source": [
    "[ch.fitness for ch in a.chromosomes]\n"
   ]
  },
  {
   "cell_type": "code",
   "execution_count": null,
   "id": "f25ab1fa-f1fe-4f05-a1de-0179888d419f",
   "metadata": {},
   "outputs": [],
   "source": []
  },
  {
   "cell_type": "code",
   "execution_count": 160,
   "id": "86bbcb34-ac4d-4799-930d-beac6232e748",
   "metadata": {},
   "outputs": [],
   "source": [
    "Pm = 1\n",
    "ac =chromosome([1,1,1,1,1,1,1,1,1,1])"
   ]
  },
  {
   "cell_type": "code",
   "execution_count": 161,
   "id": "e70713fe-9ee0-416d-9e93-8f84ca937f6c",
   "metadata": {},
   "outputs": [
    {
     "data": {
      "text/plain": [
       "<__main__.chromosome at 0x1f308bfeea0>"
      ]
     },
     "execution_count": 161,
     "metadata": {},
     "output_type": "execute_result"
    }
   ],
   "source": [
    "mutation(ac,1)"
   ]
  },
  {
   "cell_type": "code",
   "execution_count": 162,
   "id": "e24fa347-5e97-4a5a-bbb4-06383cb31ca4",
   "metadata": {},
   "outputs": [
    {
     "data": {
      "text/plain": [
       "[0, 0, 0, 0, 0, 0, 0, 0, 0, 0]"
      ]
     },
     "execution_count": 162,
     "metadata": {},
     "output_type": "execute_result"
    }
   ],
   "source": [
    "ac.genes"
   ]
  },
  {
   "cell_type": "code",
   "execution_count": 151,
   "id": "30beca26-09c4-4547-9047-70e09fcfd1fd",
   "metadata": {},
   "outputs": [
    {
     "data": {
      "text/plain": [
       "<__main__.chromosome at 0x1f378ead730>"
      ]
     },
     "execution_count": 151,
     "metadata": {},
     "output_type": "execute_result"
    }
   ],
   "source": [
    "xx = mutation(ac.gene,1)\n",
    "xx"
   ]
  },
  {
   "cell_type": "code",
   "execution_count": 156,
   "id": "39acf288-311e-4379-8d6f-8653379c0a5d",
   "metadata": {},
   "outputs": [
    {
     "data": {
      "text/plain": [
       "[1, 1, 1, 1, 1, 1, 1, 1, 1, 1]"
      ]
     },
     "execution_count": 156,
     "metadata": {},
     "output_type": "execute_result"
    }
   ],
   "source": [
    "ac.genes"
   ]
  },
  {
   "cell_type": "code",
   "execution_count": 158,
   "id": "4665bccf-e140-4d95-aa6d-0b9ef83f8feb",
   "metadata": {},
   "outputs": [
    {
     "data": {
      "text/plain": [
       "[0, 0, 0, 0, 0, 0, 0, 0, 0, 0]"
      ]
     },
     "execution_count": 158,
     "metadata": {},
     "output_type": "execute_result"
    }
   ],
   "source": [
    "for i in range(len(ac.genes)):\n",
    "    ac.genes[i]=(abs(ac.genes[i]-1))\n",
    "ac.genes"
   ]
  },
  {
   "cell_type": "code",
   "execution_count": 173,
   "id": "752efc3d-96b5-4cd7-9baf-014e458aef60",
   "metadata": {},
   "outputs": [
    {
     "data": {
      "text/plain": [
       "<__main__.Population at 0x1f37fc01400>"
      ]
     },
     "execution_count": 173,
     "metadata": {},
     "output_type": "execute_result"
    }
   ],
   "source": [
    "a"
   ]
  },
  {
   "cell_type": "code",
   "execution_count": 176,
   "id": "3c3f8d1d-b444-4090-8885-272f0a0c0780",
   "metadata": {},
   "outputs": [
    {
     "name": "stdout",
     "output_type": "stream",
     "text": [
      "[1, 0, 1, 1, 1, 0, 1, 1, 1, 0] 7\n",
      "[1, 1, 0, 1, 1, 0, 0, 1, 0, 0] 6\n",
      "[1, 1, 1, 0, 1, 1, 0, 0, 1, 0] 4\n",
      "[1, 0, 0, 0, 0, 1, 0, 1, 0, 0] 6\n",
      "[0, 1, 0, 1, 0, 1, 0, 0, 0, 0] 5\n",
      "[1, 1, 0, 1, 0, 1, 0, 0, 1, 1] 6\n",
      "[0, 0, 1, 0, 1, 1, 0, 0, 0, 1] 4\n",
      "[0, 1, 0, 1, 1, 1, 1, 0, 1, 1] 7\n",
      "[0, 0, 1, 0, 0, 1, 1, 0, 0, 0] 6\n",
      "[1, 1, 1, 1, 0, 0, 0, 1, 1, 0] 6\n"
     ]
    }
   ],
   "source": [
    "for ch in a.chromosomes:\n",
    "    print(ch.genes,ch.fitness)"
   ]
  },
  {
   "cell_type": "code",
   "execution_count": 177,
   "id": "be6e8b3e-662b-4b2b-80bb-93ce4287ffc9",
   "metadata": {},
   "outputs": [
    {
     "name": "stdout",
     "output_type": "stream",
     "text": [
      "[1, 1, 0, 0, 0, 0, 0, 1, 1, 1] 5\n",
      "[0, 0, 1, 1, 0, 0, 0, 0, 0, 1] 3\n",
      "[0, 1, 0, 0, 1, 1, 0, 1, 0, 0] 4\n",
      "[1, 1, 0, 1, 1, 1, 0, 1, 1, 1] 8\n",
      "[0, 0, 0, 0, 0, 1, 1, 1, 1, 1] 5\n",
      "[1, 0, 0, 0, 0, 0, 0, 0, 1, 0] 2\n",
      "[1, 1, 0, 0, 0, 1, 1, 1, 0, 0] 5\n",
      "[1, 1, 1, 0, 0, 1, 1, 1, 0, 0] 6\n",
      "[0, 0, 1, 1, 1, 1, 0, 1, 1, 1] 7\n",
      "[0, 1, 0, 1, 1, 0, 0, 1, 0, 0] 4\n"
     ]
    }
   ],
   "source": [
    "new_population = Population()\n",
    "\n",
    "for ch in new_population.chromosomes:\n",
    "    print(ch.genes,ch.fitness)"
   ]
  },
  {
   "cell_type": "code",
   "execution_count": null,
   "id": "a0f79ca9-9251-4c5c-b233-ecc99590bfba",
   "metadata": {},
   "outputs": [],
   "source": [
    "new_population = elitism(a,new_population,Er=0.2)"
   ]
  },
  {
   "cell_type": "code",
   "execution_count": null,
   "id": "d04b942b-065c-43fb-834f-9d12fa25e0d8",
   "metadata": {},
   "outputs": [],
   "source": [
    "def elitism(population,new_population,Er=0.2):\n",
    "    m = len(new_population)\n",
    "    fitness = np.array([ch.fitness for ch in population.chromosomes])\n",
    "    index_sorted = np.argsort(-normalized_fitness)\n",
    "    "
   ]
  },
  {
   "cell_type": "code",
   "execution_count": 179,
   "id": "23e24cd4-7823-42bb-8de0-e532cd958f24",
   "metadata": {},
   "outputs": [
    {
     "data": {
      "text/plain": [
       "array([7, 6, 4, 6, 5, 6, 4, 7, 6, 6])"
      ]
     },
     "execution_count": 179,
     "metadata": {},
     "output_type": "execute_result"
    }
   ],
   "source": [
    "fitness = np.array([ch.fitness for ch in a.chromosomes])\n",
    "fitness"
   ]
  },
  {
   "cell_type": "code",
   "execution_count": 181,
   "id": "1a20eef3-1a2f-4c3c-969f-d78798cfbb93",
   "metadata": {},
   "outputs": [
    {
     "data": {
      "text/plain": [
       "array([0, 7, 1, 3, 5, 8, 9, 4, 2, 6], dtype=int64)"
      ]
     },
     "execution_count": 181,
     "metadata": {},
     "output_type": "execute_result"
    }
   ],
   "source": [
    "index_sorted = np.argsort(-fitness)\n",
    "index_sorted"
   ]
  }
 ],
 "metadata": {
  "kernelspec": {
   "display_name": "Python 3 (ipykernel)",
   "language": "python",
   "name": "python3"
  },
  "language_info": {
   "codemirror_mode": {
    "name": "ipython",
    "version": 3
   },
   "file_extension": ".py",
   "mimetype": "text/x-python",
   "name": "python",
   "nbconvert_exporter": "python",
   "pygments_lexer": "ipython3",
   "version": "3.12.0"
  }
 },
 "nbformat": 4,
 "nbformat_minor": 5
}
