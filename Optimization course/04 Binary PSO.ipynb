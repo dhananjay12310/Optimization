{
 "cells": [
  {
   "cell_type": "code",
   "execution_count": 71,
   "metadata": {},
   "outputs": [],
   "source": [
    "import numpy as np\n",
    "import matplotlib.pyplot as plt"
   ]
  },
  {
   "cell_type": "code",
   "execution_count": 72,
   "metadata": {},
   "outputs": [],
   "source": [
    "class particle:\n",
    "    def __init__(self, partical_name, x, v, pbest_x, pbest_obj):\n",
    "        self.name = partical_name\n",
    "        self.position = x\n",
    "        self.velocity = v\n",
    "        self.pbest_x  = pbest_x\n",
    "        self.pbest_obj = pbest_obj\n",
    "\n",
    "    def __str__(self):\n",
    "        return f\" partical: {self.name}, position: {self.position}, velocity: {self.velocity}, pbest_x: {self.pbest_x}, pbest_obj: {self.pbest_obj}\"\n",
    "\n",
    "class swarm:\n",
    "    def __init__(self, swarm_name, gbest_x, gbest_obj):\n",
    "        self.swarm_name = swarm_name\n",
    "        self.gbest_x = gbest_x\n",
    "        self.gbest_obj = gbest_obj\n",
    "        self.particles = []\n",
    "\n",
    "    def add_particles(self, particle):\n",
    "        self.particles.append(particle)\n",
    "\n",
    "    def display_particles(self):\n",
    "        print(f\"particles in {self.swarm_name}: gbest_x= {self.gbest_x}, gbest_obj= {self.gbest_obj}\")\n",
    "        for particle in self.particles:\n",
    "            print(particle)\n",
    "\n",
    "\n",
    "\n",
    "    \n",
    "    \n",
    "    "
   ]
  },
  {
   "cell_type": "code",
   "execution_count": 73,
   "metadata": {},
   "outputs": [
    {
     "name": "stdout",
     "output_type": "stream",
     "text": [
      "particles in my_swarm_1: gbest_x= [0. 0. 0.], gbest_obj= inf\n",
      " partical: P0, position: [1 0 1], velocity: [0. 0. 0.], pbest_x: [1 0 1], pbest_obj: 2\n",
      " partical: P1, position: [1 1 1], velocity: [0. 0. 0.], pbest_x: [1 1 1], pbest_obj: 3\n",
      " partical: P2, position: [0 1 1], velocity: [0. 0. 0.], pbest_x: [0 1 1], pbest_obj: 2\n",
      " partical: P3, position: [1 1 0], velocity: [0. 0. 0.], pbest_x: [1 1 0], pbest_obj: 2\n",
      " partical: P4, position: [0 0 1], velocity: [0. 0. 0.], pbest_x: [0 0 1], pbest_obj: 1\n"
     ]
    }
   ],
   "source": [
    "def objective_function(x):\n",
    "    \n",
    "    z = np.sum(x**2)\n",
    "    return z \n",
    "\n",
    "\n",
    "nVar = 3\n",
    "ub = np.ones(nVar)\n",
    "lb = np.zeros(nVar)\n",
    "\n",
    "w_max = 0.9\n",
    "w_min = 0.2\n",
    "c1 =2\n",
    "c2 =2\n",
    "n_particals = 5\n",
    "\n",
    "iter = 10\n",
    "\n",
    "v_max = ( ub - lb ) *(0.2)\n",
    "v_min = -v_max\n",
    "\n",
    "\n",
    "##################\n",
    "swarm_name = 'my_swarm_1'          \n",
    "gbest_x = np.zeros(nVar) \n",
    "gbest_obj = np.inf\n",
    "s=swarm(swarm_name,gbest_x,gbest_obj)\n",
    "for i in range(n_particals):\n",
    "    name= \"P\"+str(i)\n",
    "    position = np.random.randint(2, size=nVar)\n",
    "    velocity =  np.zeros(nVar)\n",
    "    pbest_x =  position.copy() \n",
    "    pbest_obj = objective_function(pbest_x)\n",
    "    part = particle(name,position,velocity,pbest_x,pbest_obj)\n",
    "    s.add_particles(part)\n",
    "\n",
    "s.display_particles()"
   ]
  },
  {
   "cell_type": "code",
   "execution_count": 74,
   "metadata": {},
   "outputs": [
    {
     "name": "stdout",
     "output_type": "stream",
     "text": [
      "-------------------- iter_1 -------------------- [0. 0. 0.] inf\n",
      "-------------------- iter_2 -------------------- [0 0 1] 1\n",
      "-------------------- iter_3 -------------------- [0 0 0] 0\n",
      "-------------------- iter_4 -------------------- [0 0 0] 0\n",
      "-------------------- iter_5 -------------------- [0 0 0] 0\n",
      "-------------------- iter_6 -------------------- [0 0 0] 0\n",
      "-------------------- iter_7 -------------------- [0 0 0] 0\n",
      "-------------------- iter_8 -------------------- [0 0 0] 0\n",
      "-------------------- iter_9 -------------------- [0 0 0] 0\n",
      "-------------------- iter_10 -------------------- [0 0 0] 0\n",
      "result_gbest [0 0 0] 0\n"
     ]
    }
   ],
   "source": [
    "for t in range(1,iter+1):\n",
    "    print('-'*20,f\"iter_{t}\",'-'*20,s.gbest_x,s.gbest_obj)\n",
    "\n",
    "    for k in range(n_particals):\n",
    "        current_x = s.particles[k].position\n",
    "        current_obj =  objective_function(current_x)\n",
    "\n",
    "        if current_obj < s.particles[k].pbest_obj:\n",
    "            s.particles[k].pbest_x = current_x\n",
    "            s.particles[k].pbest_obj = current_obj\n",
    "\n",
    "        if current_obj < s.gbest_obj:\n",
    "            s.gbest_x = current_x.copy()\n",
    "            s.gbest_obj = current_obj.copy()\n",
    "\n",
    "\n",
    "    w = w_max - t*((w_max-w_min)/iter)\n",
    "    # print('-'*10, 'iter',t,'w',w,'-'*10)\n",
    "\n",
    "    for k in range(n_particals):\n",
    "        \n",
    "        s.particles[k].velocity = (w*s.particles[k].velocity) + ( c1*np.random.rand()*(s.particles[k].pbest_x - s.particles[k].position) ) + ( c1*np.random.rand()*( s.gbest_x - s.particles[k].position) )\n",
    "\n",
    "        s.particles[k].velocity[s.particles[k].velocity > v_max] = v_max[ s.particles[k].velocity > v_max ]\n",
    "        s.particles[k].velocity[s.particles[k].velocity < v_min] = v_min[ s.particles[k].velocity < v_min ]\n",
    "\n",
    "        # sigmoid transfer function\n",
    "        stf = 1/(1+np.exp(-s.particles[k].velocity))\n",
    "        # print(stf)\n",
    "\n",
    "        for i in range(nVar):\n",
    "            r=np.random.rand()\n",
    "            if r<stf[i]:\n",
    "                s.particles[k].position[i] = 0\n",
    "            else:\n",
    "                s.particles[k].position[i] = 1\n",
    "\n",
    "    \n",
    "\n",
    "print(\"result_gbest\",s.gbest_x,s.gbest_obj)"
   ]
  }
 ],
 "metadata": {
  "interpreter": {
   "hash": "40166829974964e100f311b6a7695b06da6b88e46a7e268f91bdd9ce498ee164"
  },
  "kernelspec": {
   "display_name": "Python 3.12.0 64-bit",
   "language": "python",
   "name": "python3"
  },
  "language_info": {
   "codemirror_mode": {
    "name": "ipython",
    "version": 3
   },
   "file_extension": ".py",
   "mimetype": "text/x-python",
   "name": "python",
   "nbconvert_exporter": "python",
   "pygments_lexer": "ipython3",
   "version": "3.12.0"
  },
  "orig_nbformat": 4
 },
 "nbformat": 4,
 "nbformat_minor": 2
}
