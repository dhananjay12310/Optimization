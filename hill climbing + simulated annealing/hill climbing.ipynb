{
 "cells": [
  {
   "cell_type": "code",
   "execution_count": 1,
   "metadata": {},
   "outputs": [],
   "source": [
    "import numpy as np\n",
    "import matplotlib.pyplot as plt\n",
    "\n",
    "def objective_function(initial, test_function_no):\n",
    "    x = initial\n",
    "\n",
    "    if test_function_no == 1:\n",
    "        o = 10 * -np.cos(2 * (x[0]**2 + x[1]**2)**0.5) * \\\n",
    "            np.exp(-0.5 * ((x[0] + 1)**2 + (x[1] - 1)**2)**0.5) + 5.1\n",
    "    elif test_function_no == 2:\n",
    "        o = -np.sum(np.abs(np.array([x[0], x[1]]))) + 8.5\n",
    "    elif test_function_no == 3:\n",
    "        o = -1 * (0.2 + x[0]**2 + x[1]**2 - 0.1 * np.cos(6 * np.pi * x[0]) -\n",
    "                 0.1 * np.cos(6 * np.pi * x[1]))\n",
    "    elif test_function_no == 4:\n",
    "        o = -1 * np.sum(np.array(x)**2)\n",
    "    else:\n",
    "        raise ValueError(\"Invalid test_function_no\")\n",
    "\n",
    "    return o\n",
    "\n",
    "\n",
    "def get_neighbours(A, step_size, ub, lb, test_function_no):\n",
    "    n_var = len(A['position'])\n",
    "    neighbours = []\n",
    "\n",
    "    for idx in range(1, 5):\n",
    "        if idx == 1:\n",
    "            step_vector = [step_size[0], 0]\n",
    "        elif idx == 2:\n",
    "            step_vector = [0, step_size[1]]\n",
    "        elif idx == 3:\n",
    "            step_vector = [-step_size[0], 0]\n",
    "        elif idx == 4:\n",
    "            step_vector = [0, -step_size[1]]\n",
    "\n",
    "        new_position = np.array(A['position']) + np.array(step_vector)\n",
    "\n",
    "        for i in range(n_var):\n",
    "            if new_position[i] > ub[i]:\n",
    "                new_position[i] = ub[i]\n",
    "            if new_position[i] < lb[i]:\n",
    "                new_position[i] = lb[i]\n",
    "\n",
    "        new_cost = objective_function(new_position, test_function_no)\n",
    "        neighbours.append({'position': new_position, 'cost': new_cost})\n",
    "\n",
    "    return neighbours"
   ]
  },
  {
   "cell_type": "markdown",
   "metadata": {},
   "source": [
    "#### base logic of how one agent will give one solution\n",
    "#### run multiple agents/iterations with different initial start point to potentially find the global optimum"
   ]
  },
  {
   "cell_type": "code",
   "execution_count": 2,
   "metadata": {},
   "outputs": [
    {
     "name": "stdout",
     "output_type": "stream",
     "text": [
      "Best solution obtained by Hill Climbing: {'position': array([ 0.65, -0.3 ]), 'cost': -0.5364926489329899}\n",
      "{'position': [0.8, -0.5], 'cost': -1.2709016994374949}\n",
      "{'position': array([ 0.75, -0.5 ]), 'cost': -1.1125}\n",
      "{'position': array([ 0.7, -0.5]), 'cost': -0.9590983005625051}\n",
      "{'position': array([ 0.7 , -0.45]), 'cost': -0.8703768257917525}\n",
      "{'position': array([ 0.7, -0.4]), 'cost': -0.7381966011250104}\n",
      "{'position': array([ 0.7 , -0.35]), 'cost': -0.6364926489329898}\n",
      "{'position': array([ 0.65, -0.35]), 'cost': -0.5547886967409693}\n",
      "{'position': array([ 0.65, -0.3 ]), 'cost': -0.5364926489329899}\n"
     ]
    }
   ],
   "source": [
    "test_function_no = 3  # choose the test function\n",
    "\n",
    "initial = [0.8, -0.5]\n",
    "cost_initial = objective_function(initial, test_function_no)\n",
    "\n",
    "ub = [1, 1]\n",
    "lb = [-1, -1]\n",
    "\n",
    "step_size = [0.05, 0.05]\n",
    "\n",
    "\n",
    "n_var = len(initial)\n",
    "optimum_found = False\n",
    "A = {'position': initial, 'cost': objective_function(initial, test_function_no)}\n",
    "trajectory = []\n",
    "\n",
    "iteration = 0\n",
    "while not optimum_found:\n",
    "    neighbours = get_neighbours(A, step_size, ub, lb, test_function_no)\n",
    "\n",
    "    iteration += 1\n",
    "    trajectory.append({'position': A['position'], 'cost': A['cost']})\n",
    "\n",
    "    improvement = False\n",
    "    for k in range(len(neighbours)):\n",
    "        B = neighbours[k]\n",
    "        if B['cost'] > A['cost']:\n",
    "            A = {'position': B['position'], 'cost': B['cost']}\n",
    "            improvement = True\n",
    "\n",
    "    if not improvement:\n",
    "        optimum_found = True\n",
    "\n",
    "print('Best solution obtained by Hill Climbing:' , A)\n",
    "for point in trajectory:\n",
    "    print(point)\n"
   ]
  },
  {
   "cell_type": "code",
   "execution_count": null,
   "metadata": {},
   "outputs": [],
   "source": []
  }
 ],
 "metadata": {
  "interpreter": {
   "hash": "40166829974964e100f311b6a7695b06da6b88e46a7e268f91bdd9ce498ee164"
  },
  "kernelspec": {
   "display_name": "Python 3.12.0 64-bit",
   "language": "python",
   "name": "python3"
  },
  "language_info": {
   "codemirror_mode": {
    "name": "ipython",
    "version": 3
   },
   "file_extension": ".py",
   "mimetype": "text/x-python",
   "name": "python",
   "nbconvert_exporter": "python",
   "pygments_lexer": "ipython3",
   "version": "3.12.0"
  },
  "orig_nbformat": 4
 },
 "nbformat": 4,
 "nbformat_minor": 2
}
